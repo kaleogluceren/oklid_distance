{
 "cells": [
  {
   "cell_type": "code",
   "execution_count": 12,
   "id": "52d68191-4e6c-4ddd-b371-28b71668f827",
   "metadata": {},
   "outputs": [
    {
     "name": "stdout",
     "output_type": "stream",
     "text": [
      "Minimum Öklid Mesafesi: 2.8284271247461903\n"
     ]
    }
   ],
   "source": [
    "# Noktaların tanımlanması\n",
    "points = [(1, 2), (3, 4), (5, 6), (7, 8)]  # Örnek noktalar\n",
    "\n",
    "def euclideanDistance(point1, point2):\n",
    "    return ((point1[0] - point2[0])**2 + (point1[1] - point2[1])**2)**0.5\n",
    "# Mesafelerin hesabı\n",
    "distances = []\n",
    "for i in range(len(points)):\n",
    "    for j in range(i + 1, len(points)):\n",
    "        distances.append(euclideanDistance(points[i], points[j]))\n",
    "\n",
    "# Minimum mesafenin hesabı\n",
    "min_distance = min(distances)\n",
    "print(f\"Minimum Öklid Mesafesi: {min_distance}\")"
   ]
  },
  {
   "cell_type": "code",
   "execution_count": null,
   "id": "28b227a6-135d-495b-83a6-a829258df821",
   "metadata": {},
   "outputs": [],
   "source": []
  }
 ],
 "metadata": {
  "kernelspec": {
   "display_name": "Python 3 (ipykernel)",
   "language": "python",
   "name": "python3"
  },
  "language_info": {
   "codemirror_mode": {
    "name": "ipython",
    "version": 3
   },
   "file_extension": ".py",
   "mimetype": "text/x-python",
   "name": "python",
   "nbconvert_exporter": "python",
   "pygments_lexer": "ipython3",
   "version": "3.12.4"
  }
 },
 "nbformat": 4,
 "nbformat_minor": 5
}
